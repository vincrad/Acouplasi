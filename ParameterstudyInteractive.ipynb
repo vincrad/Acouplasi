{
 "cells": [
  {
   "cell_type": "markdown",
   "metadata": {},
   "source": [
    "# Parameterstudy with interactive elements"
   ]
  },
  {
   "cell_type": "code",
   "execution_count": 4,
   "metadata": {
    "tags": []
   },
   "outputs": [
    {
     "data": {
      "application/vnd.jupyter.widget-view+json": {
       "model_id": "ee4719d7a5aa49cc9eaf5752d00c30bf",
       "version_major": 2,
       "version_minor": 0
      },
      "text/plain": [
       "interactive(children=(FloatSlider(value=0.08, description='hd', max=1.0, step=0.01), FloatSlider(value=0.0003,…"
      ]
     },
     "metadata": {},
     "output_type": "display_data"
    },
    {
     "data": {
      "text/plain": [
       "<function __main__.parameterstudy(hd, hp, height, length, material, temperature, flow)>"
      ]
     },
     "execution_count": 4,
     "metadata": {},
     "output_type": "execute_result"
    }
   ],
   "source": [
    "#!/usr/bin/env python3\n",
    "# -*- coding: utf-8 -*-\n",
    "\"\"\"\n",
    "Created on Fri Sep  4 14:06:20 2020\n",
    "\n",
    "@author: radmann, schwaericke\n",
    "\"\"\"\n",
    "\n",
    "##############################################################################\n",
    "# Schalldämpfer Parameterstudie\n",
    "##############################################################################\n",
    "\n",
    "from __future__ import print_function\n",
    "import numpy as np, numpy\n",
    "import matplotlib.pyplot as plt\n",
    "from ipywidgets import interact, interactive, fixed, interact_manual\n",
    "import ipywidgets as widgets\n",
    "\n",
    "plt.rc('text', usetex=True)\n",
    "\n",
    "# Import the Classes of the Model\n",
    "from DuctElement import DuctElement\n",
    "from Ducts import Duct\n",
    "from Temperature import Temperature\n",
    "from Fluid import Fluid\n",
    "from Material import TPU1170A, TPU1195A, Al, Steel, Pb, Mg, Cu, KKP07\n",
    "from Linings import PlateResonators, SinglePlateResonator\n",
    "from Plate import SimplePlate\n",
    "from Cavity import Cavity2D\n",
    "\n",
    "# frequency\n",
    "f = np.logspace(1,3,num=150)\n",
    "\n",
    "# temperature\n",
    "Tn=widgets.FloatSlider(min=-50, max=50, step=25, value=25)\n",
    "\n",
    "# plate height\n",
    "Hpn=widgets.FloatSlider(min=.0001, max=.001, step=.0001, value=.0003, readout_format='.4f')\n",
    "\n",
    "# duct height\n",
    "Hdn=widgets.FloatSlider(min=0, max=1, step=.01, value=.08)\n",
    "\n",
    "# cavity height\n",
    "Heightn=widgets.FloatSlider(min=0, max=1, step=.01, value=.04)\n",
    "\n",
    "# cavity/plate length\n",
    "Lengthn=widgets.FloatSlider(min=0, max=1, step=.01, value=.4)\n",
    "\n",
    "# material\n",
    "Materialn=widgets.Dropdown(options=[('TPU1195A',TPU1195A), ('Aluminium',Al), ('Steel',Steel), ('Lead',Pb), ('Magnesium',Mg), ('Copper',Cu), ('TPU1170A',TPU1170A), ('KKP07',KKP07)])\n",
    "\n",
    "# flow\n",
    "Flown=widgets.FloatSlider(min=0, max=.9, step=.1, value=0)\n",
    "\n",
    "# # number of plate modes\n",
    "N = 7\n",
    "\n",
    "# plate modes\n",
    "j = np.arange(1, N+1, 1)\n",
    "l = np.arange(1, N+1, 1)\n",
    "\n",
    "# cavity modes\n",
    "r = np.arange(0,27,1)\n",
    "t = np.arange(0,27,1)\n",
    "\n",
    "\n",
    "def parameterstudy(hd,hp,height,length,material,temperature,flow):\n",
    "    \n",
    "    temp = Temperature(C=temperature)\n",
    "\n",
    "    fluid = Fluid(temperature=temp)\n",
    "    \n",
    "    plate = SimplePlate(hp=hp, material=material, temperature=temp)\n",
    "\n",
    "    cavity = Cavity2D(height=height, r=r, t=t, medium=fluid)\n",
    "    \n",
    "    lining = SinglePlateResonator(length=length, depth=1, j=j, l=l, t=t, plate=plate, cavity=cavity)\n",
    "\n",
    "    ductelement = DuctElement(lining=lining, medium=fluid, M=flow)\n",
    "\n",
    "    duct = Duct(freq=f, height_d=hd, elements=[ductelement])\n",
    "\n",
    "    TL = duct.tl()\n",
    "\n",
    "    plt.figure(figsize=(21,9))\n",
    "    plt.xscale('log')       \n",
    "    plt.plot(f,TL)\n",
    "    plt.title(\"\")\n",
    "    plt.xlabel('$f$ [Hz]')\n",
    "    plt.ylabel('TL [dB]')\n",
    "    plt.ylim(0,15)\n",
    "    return\n",
    "\n",
    "interact(parameterstudy, hd=Hdn, hp=Hpn, height=Heightn, length=Lengthn, material=Materialn, temperature=Tn, flow=Flown)\n"
   ]
  },
  {
   "cell_type": "code",
   "execution_count": null,
   "metadata": {},
   "outputs": [],
   "source": []
  },
  {
   "cell_type": "code",
   "execution_count": null,
   "metadata": {
    "tags": []
   },
   "outputs": [],
   "source": []
  }
 ],
 "metadata": {
  "kernelspec": {
   "display_name": "Python 3",
   "language": "python",
   "name": "python3"
  },
  "language_info": {
   "codemirror_mode": {
    "name": "ipython",
    "version": 3
   },
   "file_extension": ".py",
   "mimetype": "text/x-python",
   "name": "python",
   "nbconvert_exporter": "python",
   "pygments_lexer": "ipython3",
   "version": "3.7.7"
  }
 },
 "nbformat": 4,
 "nbformat_minor": 4
}
