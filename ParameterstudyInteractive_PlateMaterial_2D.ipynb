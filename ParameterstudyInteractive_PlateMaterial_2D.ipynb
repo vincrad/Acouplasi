{
 "cells": [
  {
   "cell_type": "markdown",
   "metadata": {},
   "source": [
    "# Parameterstudy with interactive elements \n",
    "Designed to investigate the influence of the plate material on the transmission loss. \n",
    "\n",
    "Liner and duct dimensions fit the LAKS liners."
   ]
  },
  {
   "cell_type": "code",
   "execution_count": 1,
   "metadata": {
    "tags": []
   },
   "outputs": [
    {
     "data": {
      "application/vnd.jupyter.widget-view+json": {
       "model_id": "7e91a19f45a84ebf8aeed0f875fb2e52",
       "version_major": 2,
       "version_minor": 0
      },
      "text/plain": [
       "interactive(children=(Dropdown(description='length', options=(('4x4', 0.04975), ('6x4', 0.03217)), value=0.049…"
      ]
     },
     "metadata": {},
     "output_type": "display_data"
    }
   ],
   "source": [
    "#!/usr/bin/env python3\n",
    "# -*- coding: utf-8 -*-\n",
    "\"\"\"\n",
    "Created on Fri Sep  4 14:06:20 2020\n",
    "\n",
    "@author: radmann, schwaericke, jueterbock\n",
    "\"\"\"\n",
    "\n",
    "##############################################################################\n",
    "# Schalldämpfer Parameterstudie\n",
    "##############################################################################\n",
    "\n",
    "from __future__ import print_function\n",
    "import numpy as np\n",
    "from numpy import NaN\n",
    "import matplotlib.pyplot as plt\n",
    "from ipywidgets import interact, fixed\n",
    "import ipywidgets as widgets\n",
    "\n",
    "plt.rc('text', usetex=True)\n",
    "from Cavity import Cavity2D \n",
    "from Ducts import Duct, DuctElement\n",
    "from Fluid import Fluid \n",
    "from Linings import SinglePlateResonator\n",
    "from Material import Material\n",
    "from Plate import SimplePlate\n",
    "from Temperature import Temperature\n",
    "# frequency\n",
    "f = np.linspace(100,2500,300)\n",
    "\n",
    "# temperature\n",
    "# Tn=widgets.FloatSlider(min=-50, max=50, step=25, value=25)\n",
    "Tn=fixed(22)\n",
    "\n",
    "# plate height\n",
    "Hpn=widgets.FloatSlider(min=3e-5, max=3e-4, step=1e-5, value=1.1e-4, readout_format='.1e')\n",
    "\n",
    "# duct height\n",
    "# Hdn=widgets.FloatSlider(min=0.06, max=0.08, step=.02, value=.06)\n",
    "Hdn=fixed(0.06)\n",
    "\n",
    "# cavity height\n",
    "# Heightn=widgets.FloatSlider(min=0, max=1, step=.01, value=.04)\n",
    "Heightn=fixed(0.028)\n",
    "\n",
    "# cavity/plate length\n",
    "# Lengthn=widgets.FloatSlider(min=0, max=1, step=.01, value=.4)\n",
    "Lengthn=widgets.Dropdown(options=[('4x4', 0.04975), ('6x4', 0.03217)])\n",
    "\n",
    "# material\n",
    "E_modulen = widgets.FloatSlider(min=1e9, max=9e10, step=1e9, value=2.9e10, readout_format='.1e')\n",
    "damping_factorn = widgets.FloatSlider(min=0, max=1, step=.005, value=.51)\n",
    "\n",
    "# flow\n",
    "Flown=widgets.FloatSlider(min=-.3, max=.31, step=.1, value=0.0)\n",
    "\n",
    "\n",
    "def parameterstudy(length,hd,hp,height,E_module,damping_factor,temperature,flow):\n",
    "    \n",
    "    temp = Temperature(C=temperature)\n",
    "\n",
    "    fluid = Fluid(temperature=temp)\n",
    "     \n",
    "    material = Material(rho = 1150, mu = .48, E = lambda freq, temp: E_module*(1+1j*damping_factor))\n",
    "    \n",
    "    plate = SimplePlate(hp=hp, material=material, temperature=temp)\n",
    "\n",
    "    # number of modes\n",
    "    R = np.ceil(2*np.max(f)*length/np.real(fluid.c))\n",
    "    J = np.ceil(np.sqrt(np.max(f)*2*length**2/np.pi*\n",
    "                        np.sqrt(plate.mass()/np.real(plate.bendingstiffness(np.max(f), temp)))))\n",
    "\n",
    "    # plate modes\n",
    "    j = np.arange(1, J+5, 1)\n",
    "    l = np.arange(1, J+5, 1)\n",
    "\n",
    "    # cavity modes\n",
    "    r = np.arange(0, 5*R+J, 1)\n",
    "    t = np.arange(0, 5, 1)\n",
    "    # cavity = Cavity2D(height=height, r=r, t=t, medium=fluid, zetars=0.1)\n",
    "    cavity = Cavity2D(height=height, r=r, t=t, medium=fluid)\n",
    "\n",
    "    # lining = SinglePlateResonator(length=length, depth=1, j=j, l=l, t=t, plate=plate, cavity=cavity)\n",
    "    lining = SinglePlateResonator(length=length, j=j, l=l, t=t, plate=plate, cavity=cavity)\n",
    "\n",
    "    ductelement = DuctElement(lining=lining, medium=fluid, M=flow)\n",
    "\n",
    "    duct = Duct(freq=f, height_d=hd, elements=[ductelement])\n",
    "\n",
    "    N_cavities = (4 if length == .04975 else (6 if length == 0.03217 else NaN))\n",
    "    TL = duct.tl() #* N_cavities\n",
    "\n",
    "    plt.figure(figsize=(12,6))\n",
    "    # plt.xscale('log')       \n",
    "    plt.plot(f,TL,label='2D')\n",
    "    plt.title(\"\")\n",
    "    plt.xlabel('$f$ [Hz]')\n",
    "    plt.ylabel('TL [dB]')\n",
    "    plt.ylim(0,15)\n",
    "    \n",
    "    plt.legend()\n",
    "    return\n",
    "\n",
    "interact(parameterstudy, length=Lengthn, hd=Hdn, hp=Hpn, height=Heightn, E_module=E_modulen, damping_factor=damping_factorn, temperature=Tn, flow=Flown)\n",
    "\n",
    "plt.show()\n"
   ]
  }
 ],
 "metadata": {
  "interpreter": {
   "hash": "40d3a090f54c6569ab1632332b64b2c03c39dcf918b08424e98f38b5ae0af88f"
  },
  "kernelspec": {
   "display_name": "Python 3.7.7 64-bit ('base': conda)",
   "name": "python3"
  },
  "language_info": {
   "codemirror_mode": {
    "name": "ipython",
    "version": 3
   },
   "file_extension": ".py",
   "mimetype": "text/x-python",
   "name": "python",
   "nbconvert_exporter": "python",
   "pygments_lexer": "ipython3",
   "version": "3.8.12"
  }
 },
 "nbformat": 4,
 "nbformat_minor": 4
}
